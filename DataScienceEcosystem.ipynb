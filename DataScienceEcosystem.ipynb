{
 "cells": [
  {
   "cell_type": "markdown",
   "id": "f17cba57",
   "metadata": {},
   "source": [
    "# Data Science Tools and Ecosystem"
   ]
  },
  {
   "cell_type": "markdown",
   "id": "6a63f7fc",
   "metadata": {},
   "source": [
    "In this notebook, Data Science Tools and Ecosystem are summarized."
   ]
  },
  {
   "cell_type": "markdown",
   "id": "a91a3b39",
   "metadata": {},
   "source": [
    "**Objectives:**\n",
    "- List popular languages for Data Science\n",
    "- List popular libraries for Data Science\n",
    "- Show how arithmetic calculation is perfomed in Python\n"
   ]
  },
  {
   "cell_type": "markdown",
   "id": "029d05d6",
   "metadata": {},
   "source": [
    "Some of the popular languages that Data Scientists use are:\n",
    "   \n",
    "    1. Python\n",
    "    2. R\n",
    "    3. SQL\n",
    "    4. Java"
   ]
  },
  {
   "cell_type": "markdown",
   "id": "8b635f9a",
   "metadata": {},
   "source": [
    "Some of the commonly used libraries used by Data Scientists include:\n",
    "\n",
    "    1. Pandas\n",
    "    2. Keras\n",
    "    3. Numpy\n",
    "    4. Matplotlib\n",
    "    5. TensorFlow\n",
    "    "
   ]
  },
  {
   "cell_type": "markdown",
   "id": "c7639cda",
   "metadata": {},
   "source": [
    "\n",
    "| Data Science Tools|  \n",
    "| ----------------- |\n",
    "| MySQL|\n",
    "|Kibana |\n",
    "|GitHub|"
   ]
  },
  {
   "cell_type": "markdown",
   "id": "a3939ea6",
   "metadata": {},
   "source": [
    "### Below are a few examples of evaluating arithmetic expressions in Python\n"
   ]
  },
  {
   "cell_type": "code",
   "execution_count": 5,
   "id": "2bdc12fa",
   "metadata": {
    "scrolled": true
   },
   "outputs": [],
   "source": [
    "# This a simple arithmetic expression to mutiply then add integers\n",
    "\n",
    "a = (3*4) + 5\n",
    "a # return the result"
   ]
  },
  {
   "cell_type": "code",
   "execution_count": null,
   "id": "27af241b",
   "metadata": {},
   "outputs": [],
   "source": [
    "# This will convert 200 minutes to hours by diving by 60\n",
    "\n",
    "x = 200  \n",
    "y = x/60 \n",
    "y # return the value in hours"
   ]
  },
  {
   "cell_type": "markdown",
   "id": "e6872c8a",
   "metadata": {},
   "source": [
    "## Author\n",
    "Thaynara Caminhas Oliveira"
   ]
  }
 ],
 "metadata": {
  "kernelspec": {
   "display_name": "Python 3 (ipykernel)",
   "language": "python",
   "name": "python3"
  },
  "language_info": {
   "codemirror_mode": {
    "name": "ipython",
    "version": 3
   },
   "file_extension": ".py",
   "mimetype": "text/x-python",
   "name": "python",
   "nbconvert_exporter": "python",
   "pygments_lexer": "ipython3",
   "version": "3.11.4"
  }
 },
 "nbformat": 4,
 "nbformat_minor": 5
}
